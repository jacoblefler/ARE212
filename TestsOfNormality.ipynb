{
 "cells": [
  {
   "cell_type": "markdown",
   "metadata": {},
   "source": [
    "We want to test whether the data we get are from a normal distribution.\n",
    "Basic outline:\n",
    "1. Get data (scalars).\n",
    "2. Estimate $\\mu$ and $\\sigma$ using moment conditions under the null. Use $\\Omega$ that we can find from assuming normality.\n",
    "3. Calculate $J_N$.\n",
    "4. Test whether $J_N$ is really distributed as chi sq with $k-2$ degrees of freedom.\n",
    "\n",
    "From Ethan:\n",
    "Implement the test you've devised using =python=. You may want\n",
    "to use =scipy.stats.distributions.chi2.cdf= and =scipy.optimize.minimize=."
   ]
  },
  {
   "cell_type": "code",
   "execution_count": 15,
   "metadata": {},
   "outputs": [],
   "source": [
    "import numpy as np\n",
    "from scipy.stats import distributions as iid\n",
    "from scipy.stats import logistic as logist\n",
    "from scipy.optimize import minimize\n",
    "from matplotlib import pyplot as plt"
   ]
  },
  {
   "cell_type": "code",
   "execution_count": 5,
   "metadata": {},
   "outputs": [],
   "source": [
    "def doublefact(n):\n",
    "     if n <= 0:\n",
    "         return 1\n",
    "     else:\n",
    "         return n * doublefact(n-2)"
   ]
  },
  {
   "cell_type": "code",
   "execution_count": 6,
   "metadata": {},
   "outputs": [],
   "source": [
    "\"\"\"mu, sigma are proposed pop mean and std dev. k is number of moments\"\"\"\n",
    "def weight_mat(sigma, k):\n",
    "    Omega = np.zeros((k,k))\n",
    "    for i in range(k):\n",
    "        for j in range(k):\n",
    "            # redefine i,j to start at 1\n",
    "            i1 = i + 1\n",
    "            j1 = j + 1\n",
    "            # define constant for when both are even\n",
    "            constant = doublefact(i1+j1-1)-doublefact(i1-1)*doublefact(j1-1)\n",
    "            if i1 % 2 == 0: # i is even\n",
    "                if j1 % 2 == 0: # j is also even\n",
    "                    Omega[i,j] = (sigma**(i1+j1))*constant\n",
    "            if i1 % 2 == 1: # i is odd\n",
    "                if j1 % 2 == 1: # j is also odd\n",
    "                    Omega[i,j] = (sigma**(i1+j1))*doublefact(i1+j1-1)\n",
    "    return np.linalg.inv(Omega)"
   ]
  },
  {
   "cell_type": "code",
   "execution_count": 7,
   "metadata": {},
   "outputs": [],
   "source": [
    "def g_vec(sigma, mu, x, k):\n",
    "    gvect = np.zeros(k)\n",
    "    for i in range(k):\n",
    "        if i % 2 == 0: # if i is even\n",
    "            gvect[i] = (x-mu)**(i+1)\n",
    "        if i % 2 == 1: # if i is odd\n",
    "            gvect[i] = (x-mu)**(i+1) - doublefact(i)*sigma**(i+1)\n",
    "    return gvect"
   ]
  },
  {
   "cell_type": "code",
   "execution_count": 8,
   "metadata": {},
   "outputs": [],
   "source": [
    "def g_N(sigma, mu, X, k):\n",
    "    N = X.shape[0]\n",
    "    g_N = np.zeros(k)\n",
    "    for x in X:\n",
    "        g_N = g_N + g_vec(sigma, mu, x, k)*(1/N)\n",
    "    return g_N"
   ]
  },
  {
   "cell_type": "code",
   "execution_count": 9,
   "metadata": {},
   "outputs": [],
   "source": [
    "def objective_funct(param, *args):\n",
    "    sigma = param[0]\n",
    "    mu = param[1]\n",
    "    X = args[0]\n",
    "    k = args[1]\n",
    "    N = X.shape[0]\n",
    "    gN = g_N(sigma, mu, X, k)\n",
    "    A = weight_mat(sigma, k)\n",
    "    return N*(gN.T @ A @ gN)"
   ]
  },
  {
   "cell_type": "code",
   "execution_count": 10,
   "metadata": {},
   "outputs": [],
   "source": [
    "def normaldist_gmm(X,k):\n",
    "    \"\"\"X is data. k is number of moment restrictions.\n",
    "        Returns array where first value is estimated sigma, second is estimated mu.\"\"\"\n",
    "    x_init = np.asarray([1,0]) # start with guess sigma=1, mu=0\n",
    "    bN = minimize(fun=objective_funct, x0=x_init, args=(X,k)).x\n",
    "    return bN"
   ]
  },
  {
   "cell_type": "code",
   "execution_count": 20,
   "metadata": {},
   "outputs": [],
   "source": [
    "def pvalue(X, k):\n",
    "    bN = normaldist_gmm(X,k)\n",
    "    JN = objective_funct(bN, X,k)\n",
    "    return (1 - iid.chi2.cdf(x=JN, df=(k-2)))"
   ]
  },
  {
   "cell_type": "markdown",
   "metadata": {},
   "source": [
    "Now generate some data to run our test on. Hopefully it will not reject the data from the normal distribution, but it will reject the data from the logistic distribution, which looks similar to me."
   ]
  },
  {
   "cell_type": "code",
   "execution_count": 26,
   "metadata": {},
   "outputs": [],
   "source": [
    "# X is normally distributed with mean=1,sd=2.\n",
    "X = iid.norm.rvs(loc=1, scale=2, size=1000)\n",
    "# Y has a logistic distribution\n",
    "Y = logist.rvs(size=1000)"
   ]
  },
  {
   "cell_type": "code",
   "execution_count": 27,
   "metadata": {},
   "outputs": [
    {
     "data": {
      "image/png": "[encoded data removed]",
      "text/plain": [
       "<Figure size 432x288 with 1 Axes>"
      ]
     },
     "metadata": {
      "needs_background": "light"
     },
     "output_type": "display_data"
    }
   ],
   "source": [
    "_ = plt.hist(X, bins='auto')  # arguments are passed to np.histogram\n",
    "plt.title(\"Histogram of X: Normally Distributed\")\n",
    "plt.show()"
   ]
  },
  {
   "cell_type": "code",
   "execution_count": 28,
   "metadata": {
    "scrolled": false
   },
   "outputs": [
    {
     "data": {
      "image/png": "[encoded data removed]",
      "text/plain": [
       "<Figure size 432x288 with 1 Axes>"
      ]
     },
     "metadata": {
      "needs_background": "light"
     },
     "output_type": "display_data"
    }
   ],
   "source": [
    "_ = plt.hist(Y, bins='auto')  # arguments are passed to np.histogram\n",
    "plt.title(\"Histogram of Y: Logistic Distribution\")\n",
    "plt.show()"
   ]
  },
  {
   "cell_type": "markdown",
   "metadata": {},
   "source": [
    "Now we're ready to use this on our data that we generated."
   ]
  },
  {
   "cell_type": "code",
   "execution_count": 31,
   "metadata": {},
   "outputs": [
    {
     "name": "stdout",
     "output_type": "stream",
     "text": [
      "0.7361482909828037\n",
      "0.28574106010518174\n",
      "0.4693167424239404\n",
      "0.6386762799268081\n",
      "0.7661839417619782\n",
      "0.8081284521455068\n"
     ]
    }
   ],
   "source": [
    "print(pvalue(X, 3))\n",
    "print(pvalue(X, 4))\n",
    "print(pvalue(X, 5))\n",
    "print(pvalue(X, 6))\n",
    "print(pvalue(X, 7))\n",
    "print(pvalue(X, 8))"
   ]
  },
  {
   "cell_type": "markdown",
   "metadata": {},
   "source": [
    "Good. We never reject."
   ]
  },
  {
   "cell_type": "code",
   "execution_count": 32,
   "metadata": {},
   "outputs": [
    {
     "name": "stdout",
     "output_type": "stream",
     "text": [
      "0.9168723808006406\n",
      "0.0\n",
      "1.1102230246251565e-16\n",
      "2.220446049250313e-16\n",
      "1.1102230246251565e-16\n",
      "4.440892098500626e-16\n"
     ]
    }
   ],
   "source": [
    "print(pvalue(Y, 3))\n",
    "print(pvalue(Y, 4))\n",
    "print(pvalue(Y, 5))\n",
    "print(pvalue(Y, 6))\n",
    "print(pvalue(Y, 7))\n",
    "print(pvalue(Y, 8))"
   ]
  },
  {
   "cell_type": "markdown",
   "metadata": {},
   "source": [
    "Once we get to k=4, our test is never fooled by the data from the logistic distribution."
   ]
  },
  {
   "cell_type": "markdown",
   "metadata": {},
   "source": [
    "Optimal k? I have no idea. How about 1000? I see no reason why more is not more in this case. I'm almost certainly missing something."
   ]
  },
  {
   "cell_type": "code",
   "execution_count": null,
   "metadata": {},
   "outputs": [],
   "source": [
    "\"\"\"OLD\"\"\"\n",
    "def omega_est(X,k):\n",
    "    N = X.shape[0] # sample size\n",
    "    xbar = np.mean(X) # sample mean\n",
    "    ssr = 0\n",
    "    for x in X:\n",
    "        ssr = ssr + (x - xbar)**2\n",
    "    s2 = (1/(N-1))*ssr # sample variance\n",
    "    # by setting Omega to zero, we only need to change for ->\n",
    "    # i,j are both even or both odd\n",
    "    Omega = np.zeros((k,k))\n",
    "    for i in range(k):\n",
    "        for j in range(k):\n",
    "            # define constant for when both are even\n",
    "            constant = doublefact(i+j-1)-doublefact(i-1)*doublefact(j-1)\n",
    "            if i % 2 == 0: # i is even\n",
    "                if j % 2 == 0: # j is also even\n",
    "                    Omega[i,j] = s2**((i+j)/2)*constant\n",
    "            if i % 2 == 1: # i is odd\n",
    "                if j % 2 == 1: # j is also odd\n",
    "                    Omega[i,j] = s2**((i+j)/2)*doublefact(i+j-1)\n",
    "    return Omega"
   ]
  }
 ],
 "metadata": {
  "kernelspec": {
   "display_name": "Python 3",
   "language": "python",
   "name": "python3"
  },
  "language_info": {
   "codemirror_mode": {
    "name": "ipython",
    "version": 3
   },
   "file_extension": ".py",
   "mimetype": "text/x-python",
   "name": "python",
   "nbconvert_exporter": "python",
   "pygments_lexer": "ipython3",
   "version": "3.7.6"
  }
 },
 "nbformat": 4,
 "nbformat_minor": 4
}
