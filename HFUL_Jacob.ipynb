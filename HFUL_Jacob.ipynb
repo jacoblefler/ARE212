{
 "cells": [
  {
   "cell_type": "code",
   "execution_count": 12,
   "metadata": {},
   "outputs": [],
   "source": [
    "import numpy as np\n",
    "import pandas as pd\n",
    "from scipy.stats import multivariate_normal\n",
    "from sklearn.datasets import make_spd_matrix"
   ]
  },
  {
   "cell_type": "code",
   "execution_count": 71,
   "metadata": {},
   "outputs": [],
   "source": [
    "# I'm pretty sure this part is right. I blame any mistakes on Abdou.\n",
    "def HFUL(y, X, Z):\n",
    "    n = y.shape[0]\n",
    "    k = X.shape[1]\n",
    "    P = Z @ np.linalg.inv(Z.T @ Z) @ Z.T\n",
    "    X_bar = np.column_stack((y, X))\n",
    "    # Calculate alpha hat\n",
    "    PXbarXbar = np.zeros((X_bar.shape[1], X_bar.shape[1]))\n",
    "    for i in range(n):\n",
    "        PXbarXbar = PXbarXbar + P[i, i] * np.outer(X_bar[i, :], X_bar[i, :])\n",
    "    A = np.linalg.inv(X_bar.T @ X_bar) @ (X_bar.T @ P @ X_bar - PXbarXbar)\n",
    "    w, v = np.linalg.eig(A)\n",
    "    alpha_tilde = np.amin(w)\n",
    "    alpha_hat = ((n+1) * alpha_tilde - 1)/(n + alpha_tilde - 1)\n",
    "    # Now calculate b HFUL\n",
    "    PXX = np.zeros((X.shape[1], X.shape[1]))\n",
    "    PXy = np.zeros(k)\n",
    "    for i in range(n):\n",
    "        PXX = PXX + P[i, i] * np.outer(X[i, :], X[i, :])\n",
    "    for i in range(n):\n",
    "        PXy = PXy + P[i, i] * X[i, :] * y[i]\n",
    "    b_hful_term1 = X.T @ P @ X - PXX - alpha_hat * X.T @ X\n",
    "    b_hful_term2 = X.T @ P @ y - PXy - alpha_hat * X.T @ y\n",
    "    return np.linalg.inv(b_hful_term1) @ b_hful_term2"
   ]
  },
  {
   "cell_type": "code",
   "execution_count": 97,
   "metadata": {},
   "outputs": [],
   "source": [
    "\"\"\" I know this part has problems. The covariance matrix must be positive definite. I don't want to have to specify every\n",
    "term of the covariance matrix, so I just let it be a random pos def matrix (using make_spd_matrix). But then I changed \n",
    "some of the terms to make sure that my z variables are uncorrelated with the error term u. After doing this, the matrix\n",
    "is only sometimes positive definite. When an error pops up, I just keep retrying until I get lucky and it's still\n",
    "positive definite.\"\"\"\n",
    "# Generate data, use random draws from multivariate normal\n",
    "n = 10000\n",
    "k = 3\n",
    "l = 50\n",
    "dim_cov_matrix = k + l + 1\n",
    "cov_matrix = make_spd_matrix(dim_cov_matrix) # initialize covariance matrix as random\n",
    "for i in range(k, l):\n",
    "    cov_matrix[i, (k+l)] = 0 # make sure exclusion restriction holds\n",
    "    cov_matrix[(k+l), i] = 0\n",
    "data_dist = multivariate_normal(cov=cov_matrix)\n",
    "data = data_dist.rvs(n)\n",
    "X = data[:, range(0, k)]\n",
    "Z = data[:, range(k, l)]\n",
    "u = data[:, k+l]"
   ]
  },
  {
   "cell_type": "code",
   "execution_count": 98,
   "metadata": {},
   "outputs": [
    {
     "name": "stdout",
     "output_type": "stream",
     "text": [
      "[0.32970534 0.17514681 0.39123993]\n"
     ]
    }
   ],
   "source": [
    "# Create a random beta. Print it so I know the truth. Then generate my y vector. \n",
    "beta = np.random.rand(k)\n",
    "print(beta)\n",
    "y = X @ beta + u"
   ]
  },
  {
   "cell_type": "code",
   "execution_count": 99,
   "metadata": {},
   "outputs": [
    {
     "data": {
      "text/plain": [
       "array([0.33531128, 0.18853401, 0.3969155 ])"
      ]
     },
     "execution_count": 99,
     "metadata": {},
     "output_type": "execute_result"
    }
   ],
   "source": [
    "# Estimate b_HFUL using the function above. Compare what it spits out to the true beta printed above.\n",
    "b = HFUL(y, X, Z)\n",
    "b"
   ]
  }
 ],
 "metadata": {
  "kernelspec": {
   "display_name": "Python 3",
   "language": "python",
   "name": "python3"
  },
  "language_info": {
   "codemirror_mode": {
    "name": "ipython",
    "version": 3
   },
   "file_extension": ".py",
   "mimetype": "text/x-python",
   "name": "python",
   "nbconvert_exporter": "python",
   "pygments_lexer": "ipython3",
   "version": "3.6.9"
  }
 },
 "nbformat": 4,
 "nbformat_minor": 4
}
