{
 "cells": [
  {
   "cell_type": "code",
   "execution_count": 10,
   "metadata": {},
   "outputs": [],
   "source": [
    "import numpy as np\n",
    "import pandas as pd\n",
    "from scipy.stats import multivariate_normal\n",
    "from scipy.stats import distributions as iid\n",
    "from matplotlib import pyplot as plt"
   ]
  },
  {
   "cell_type": "code",
   "execution_count": 19,
   "metadata": {},
   "outputs": [],
   "source": [
    "# I'm pretty sure this part is right.\n",
    "def HFUL(y, X, Z):\n",
    "    n = y.shape[0]\n",
    "    k = X.shape[1]\n",
    "    P = Z @ np.linalg.inv(Z.T @ Z) @ Z.T\n",
    "    X_bar = np.column_stack((y, X))\n",
    "    # Calculate alpha hat\n",
    "    PXbarXbar = np.zeros((X_bar.shape[1], X_bar.shape[1]))\n",
    "    for i in range(n):\n",
    "        PXbarXbar = PXbarXbar + P[i, i] * np.outer(X_bar[i, :], X_bar[i, :])\n",
    "    A = np.linalg.inv(X_bar.T @ X_bar) @ (X_bar.T @ P @ X_bar - PXbarXbar)\n",
    "    w, v = np.linalg.eig(A)\n",
    "    alpha_tilde = np.amin(w)\n",
    "    alpha_hat = ((n+1) * alpha_tilde - 1)/(n + alpha_tilde - 1)\n",
    "    # Now calculate b HFUL\n",
    "    PXX = np.zeros((X.shape[1], X.shape[1]))\n",
    "    PXy = np.zeros(k)\n",
    "    for i in range(n):\n",
    "        PXX = PXX + P[i, i] * np.outer(X[i, :], X[i, :])\n",
    "    for i in range(n):\n",
    "        PXy = PXy + P[i, i] * X[i, :] * y[i]\n",
    "    b_hful_term1 = X.T @ P @ X - PXX - alpha_hat * X.T @ X\n",
    "    b_hful_term2 = X.T @ P @ y - PXy - alpha_hat * X.T @ y\n",
    "    return np.linalg.inv(b_hful_term1) @ b_hful_term2"
   ]
  },
  {
   "cell_type": "code",
   "execution_count": null,
   "metadata": {},
   "outputs": [],
   "source": [
    "\"\"\" OLD DGP\n",
    "I know this part has problems. The covariance matrix must be positive definite. I don't want to have to specify every\n",
    "term of the covariance matrix, so I just let it be a random pos def matrix (using make_spd_matrix). But then I changed \n",
    "some of the terms to make sure that my z variables are uncorrelated with the error term u. After doing this, the matrix\n",
    "is only sometimes positive definite. When an error pops up, I just keep retrying until I get lucky and it's still\n",
    "positive definite.\n",
    "\n",
    "# Generate data, use random draws from multivariate normal\n",
    "n = 10000\n",
    "k = 3\n",
    "l = 50\n",
    "dim_cov_matrix = k + l + 1\n",
    "cov_matrix = make_spd_matrix(dim_cov_matrix) # initialize covariance matrix as random\n",
    "for i in range(k, l):\n",
    "    cov_matrix[i, (k+l)] = 0 # make sure exclusion restriction holds\n",
    "    cov_matrix[(k+l), i] = 0\n",
    "data_dist = multivariate_normal(cov=cov_matrix)\n",
    "data = data_dist.rvs(n)\n",
    "X = data[:, range(0, k)]\n",
    "Z = data[:, range(k, l)]\n",
    "u = data[:, k+l]\n",
    "\"\"\""
   ]
  },
  {
   "cell_type": "code",
   "execution_count": 17,
   "metadata": {},
   "outputs": [],
   "source": [
    "\"\"\"This code is for k=1, l arbitrary. Make sure Z*pi or Z@pi is defined.\"\"\"\n",
    "\n",
    "def linear_dgp(N, beta, l, pi, var_u, var_v, cov_uv):\n",
    "    uv_dist = multivariate_normal(cov=[[var_u, cov_uv], [cov_uv, var_v]]) # this allows u and v to be correlated\n",
    "    uv_data = uv_dist.rvs(N)\n",
    "    u = uv_data[:, 0]\n",
    "    v = uv_data[:, 1]\n",
    "    Z = iid.norm().rvs(N) # initialize our Z matrix as Nx1. Note z is independent of u and v.\n",
    "    for _ in range(l-1):\n",
    "        Z = np.column_stack((Z, iid.norm().rvs(N))) # If we want multiple instruments, add columns to Z\n",
    "    if l == 1:\n",
    "        X = Z*pi + v\n",
    "    else:\n",
    "        X = Z@pi + v\n",
    "    y = X*beta + u # Since X and u are correlated, OLS should be bad.\n",
    "\n",
    "    df = pd.DataFrame({'y':y,'x':X,'z':Z,'Constant':1})\n",
    "\n",
    "    return df[['y']],df[['Constant','x']],df[['Constant','z']]"
   ]
  },
  {
   "cell_type": "code",
   "execution_count": 22,
   "metadata": {},
   "outputs": [],
   "source": [
    "y,X,Z = linear_dgp(10, 1, 1, 0.2, 1, 1, 0.2)"
   ]
  },
  {
   "cell_type": "code",
   "execution_count": 29,
   "metadata": {
    "scrolled": true
   },
   "outputs": [
    {
     "data": {
      "text/html": [
       "<div>\n",
       "<style scoped>\n",
       "    .dataframe tbody tr th:only-of-type {\n",
       "        vertical-align: middle;\n",
       "    }\n",
       "\n",
       "    .dataframe tbody tr th {\n",
       "        vertical-align: top;\n",
       "    }\n",
       "\n",
       "    .dataframe thead th {\n",
       "        text-align: right;\n",
       "    }\n",
       "</style>\n",
       "<table border=\"1\" class=\"dataframe\">\n",
       "  <thead>\n",
       "    <tr style=\"text-align: right;\">\n",
       "      <th></th>\n",
       "      <th>0</th>\n",
       "      <th>1</th>\n",
       "    </tr>\n",
       "  </thead>\n",
       "  <tbody>\n",
       "    <tr>\n",
       "      <th>0</th>\n",
       "      <td>0.107013</td>\n",
       "      <td>-0.059665</td>\n",
       "    </tr>\n",
       "    <tr>\n",
       "      <th>1</th>\n",
       "      <td>0.043636</td>\n",
       "      <td>0.479554</td>\n",
       "    </tr>\n",
       "    <tr>\n",
       "      <th>2</th>\n",
       "      <td>0.120266</td>\n",
       "      <td>-0.172430</td>\n",
       "    </tr>\n",
       "    <tr>\n",
       "      <th>3</th>\n",
       "      <td>0.121951</td>\n",
       "      <td>-0.186759</td>\n",
       "    </tr>\n",
       "    <tr>\n",
       "      <th>4</th>\n",
       "      <td>0.108884</td>\n",
       "      <td>-0.075584</td>\n",
       "    </tr>\n",
       "    <tr>\n",
       "      <th>5</th>\n",
       "      <td>0.117163</td>\n",
       "      <td>-0.146021</td>\n",
       "    </tr>\n",
       "    <tr>\n",
       "      <th>6</th>\n",
       "      <td>0.117649</td>\n",
       "      <td>-0.150158</td>\n",
       "    </tr>\n",
       "    <tr>\n",
       "      <th>7</th>\n",
       "      <td>0.098000</td>\n",
       "      <td>0.017018</td>\n",
       "    </tr>\n",
       "    <tr>\n",
       "      <th>8</th>\n",
       "      <td>0.082711</td>\n",
       "      <td>0.147099</td>\n",
       "    </tr>\n",
       "    <tr>\n",
       "      <th>9</th>\n",
       "      <td>0.082729</td>\n",
       "      <td>0.146945</td>\n",
       "    </tr>\n",
       "  </tbody>\n",
       "</table>\n",
       "</div>"
      ],
      "text/plain": [
       "          0         1\n",
       "0  0.107013 -0.059665\n",
       "1  0.043636  0.479554\n",
       "2  0.120266 -0.172430\n",
       "3  0.121951 -0.186759\n",
       "4  0.108884 -0.075584\n",
       "5  0.117163 -0.146021\n",
       "6  0.117649 -0.150158\n",
       "7  0.098000  0.017018\n",
       "8  0.082711  0.147099\n",
       "9  0.082729  0.146945"
      ]
     },
     "execution_count": 29,
     "metadata": {},
     "output_type": "execute_result"
    }
   ],
   "source": [
    "Z @ np.linalg.inv(Z.T @ Z)"
   ]
  },
  {
   "cell_type": "code",
   "execution_count": null,
   "metadata": {},
   "outputs": [],
   "source": []
  },
  {
   "cell_type": "code",
   "execution_count": null,
   "metadata": {},
   "outputs": [],
   "source": [
    "B = pd.DataFrame(\n",
    "    [\n",
    "        draw_b(100,lambda N: linear_dgp(N,1,0,.01,1,1))[1] for i in range(1000)\n",
    "    ]\n",
    ")\n",
    "B.hist(bins=int(np.ceil(np.sqrt(B.shape[0]))))"
   ]
  },
  {
   "cell_type": "code",
   "execution_count": null,
   "metadata": {},
   "outputs": [],
   "source": [
    "# Estimate b_HFUL using the function above. Compare what it spits out to the true beta printed above.\n",
    "b = HFUL(y, X, Z)\n",
    "b"
   ]
  }
 ],
 "metadata": {
  "kernelspec": {
   "display_name": "Python 3",
   "language": "python",
   "name": "python3"
  },
  "language_info": {
   "codemirror_mode": {
    "name": "ipython",
    "version": 3
   },
   "file_extension": ".py",
   "mimetype": "text/x-python",
   "name": "python",
   "nbconvert_exporter": "python",
   "pygments_lexer": "ipython3",
   "version": "3.6.9"
  }
 },
 "nbformat": 4,
 "nbformat_minor": 4
}
