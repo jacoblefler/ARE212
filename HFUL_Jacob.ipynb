{
 "cells": [
  {
   "cell_type": "code",
   "execution_count": 30,
   "metadata": {},
   "outputs": [],
   "source": [
    "import numpy as np\n",
    "import pandas as pd\n",
    "from scipy.stats import multivariate_normal\n",
    "from scipy.stats import distributions as iid\n",
    "from matplotlib import pyplot as plt"
   ]
  },
  {
   "cell_type": "code",
   "execution_count": 42,
   "metadata": {},
   "outputs": [],
   "source": [
    "\"\"\"DATA GENERATION. Make sure Z and pi are conformable.\"\"\"\n",
    "\n",
    "def my_dgp(N, beta, l, pi, var_u, var_v, cov_uv):\n",
    "    uv_dist = multivariate_normal(cov=[[var_u, cov_uv], [cov_uv, var_v]]) # this allows u and v to be correlated\n",
    "    uv_data = uv_dist.rvs(N)\n",
    "    u = uv_data[:, 0]\n",
    "    v = uv_data[:, 1]\n",
    "    Z = iid.norm().rvs(N) # initialize our Z matrix as Nx1. Note z is independent of u and v.\n",
    "    for _ in range(l-1):\n",
    "        Z = np.column_stack((Z, iid.norm().rvs(N))) # If we want multiple instruments, add columns to Z\n",
    "    if l == 1:\n",
    "        X = Z*pi + v\n",
    "    else:\n",
    "        pi = pi*np.ones(l)\n",
    "        X = Z@pi + v\n",
    "    y = X*beta + u # Since X and u are correlated, OLS should be bad.\n",
    "\n",
    "    return y,np.column_stack((np.ones(N), X)),np.column_stack((np.ones(N), Z))"
   ]
  },
  {
   "cell_type": "code",
   "execution_count": 32,
   "metadata": {},
   "outputs": [],
   "source": [
    "\"\"\"This function returns my estimates of beta using HFUL, linear IV, and OLS.\"\"\"\n",
    "def HFUL_LinIV_OLS(N, dgp):\n",
    "    # Generate data\n",
    "    y,X,Z = dgp(N)\n",
    "    n = y.shape[0]\n",
    "    k = X.shape[1]\n",
    "    # Prep some matrices\n",
    "    P = Z @ np.linalg.inv(Z.T @ Z) @ Z.T\n",
    "    X_bar = np.column_stack((y, X))\n",
    "    # Calculate alpha hat\n",
    "    PXbarXbar = np.zeros((X_bar.shape[1], X_bar.shape[1]))\n",
    "    for i in range(n):\n",
    "        PXbarXbar = PXbarXbar + P[i, i] * np.outer(X_bar[i, :], X_bar[i, :])\n",
    "    A = np.linalg.inv(X_bar.T @ X_bar) @ (X_bar.T @ P @ X_bar - PXbarXbar)\n",
    "    w, v = np.linalg.eig(A)\n",
    "    alpha_tilde = np.amin(w)\n",
    "    alpha_hat = ((n+1) * alpha_tilde - 1)/(n + alpha_tilde - 1)\n",
    "    # Now calculate b HFUL\n",
    "    PXX = np.zeros((X.shape[1], X.shape[1]))\n",
    "    PXy = np.zeros(k)\n",
    "    for i in range(n):\n",
    "        PXX = PXX + P[i, i] * np.outer(X[i, :], X[i, :])\n",
    "    for i in range(n):\n",
    "        PXy = PXy + P[i, i] * X[i, :] * y[i]\n",
    "    b_hful_term1 = X.T @ P @ X - PXX - alpha_hat * X.T @ X\n",
    "    b_hful_term2 = X.T @ P @ y - PXy - alpha_hat * X.T @ y\n",
    "    b_hful = np.linalg.inv(b_hful_term1) @ b_hful_term2\n",
    "    # Now calculate linear IV estimate\n",
    "    Pz = Z @ np.linalg.inv(Z.T @ Z) @ Z.T\n",
    "    b_liniv = np.linalg.inv(X.T @ Pz @ X) @ X.T @ Pz @ y\n",
    "    # Finally, the good ol OLS estimates\n",
    "    b_ols = np.linalg.inv(X.T @ X) @ X.T @ y\n",
    "    # Put them all together and return.\n",
    "    return np.array([b_hful[1], b_liniv[1], b_ols[1]])"
   ]
  },
  {
   "cell_type": "markdown",
   "metadata": {},
   "source": [
    "# Just Identified"
   ]
  },
  {
   "cell_type": "code",
   "execution_count": 33,
   "metadata": {},
   "outputs": [],
   "source": [
    "N = 1000 # bigger sample sizes take 4ever\n",
    "beta = 1\n",
    "l = 1 # just identified\n",
    "pi = 0.05 # fairly weak instrument\n",
    "var_u = 1\n",
    "var_v = 1\n",
    "cov_uv = 0.2\n",
    "\"\"\" I apologize for using the lambda function. My code was taking forever, so I used lambda with the\n",
    "    hope that it came with some gain in efficiency. I don't think it did, but it is confusing.\"\"\"\n",
    "B_hful_iv_ols = pd.DataFrame(\n",
    "    [HFUL_LinIV_OLS(N, lambda N: my_dgp(N, beta, l, pi, var_u, var_v, cov_uv)) for i in range(1000)])"
   ]
  },
  {
   "cell_type": "code",
   "execution_count": 35,
   "metadata": {},
   "outputs": [],
   "source": [
    "B_hful = B_hful_iv_ols.iloc[:, 0]\n",
    "B_liniv = B_hful_iv_ols.iloc[:, 1]\n",
    "B_ols = B_hful_iv_ols.iloc[:, 2]"
   ]
  },
  {
   "cell_type": "markdown",
   "metadata": {},
   "source": [
    "# Histogram for OLS\n",
    "It's biased."
   ]
  },
  {
   "cell_type": "code",
   "execution_count": 40,
   "metadata": {},
   "outputs": [
    {
     "data": {
      "text/plain": [
       "<matplotlib.axes._subplots.AxesSubplot at 0x7fe039904cf8>"
      ]
     },
     "execution_count": 40,
     "metadata": {},
     "output_type": "execute_result"
    },
    {
     "data": {
      "image/png": "[encoded data removed]",
      "text/plain": [
       "<Figure size 432x288 with 1 Axes>"
      ]
     },
     "metadata": {
      "needs_background": "light"
     },
     "output_type": "display_data"
    }
   ],
   "source": [
    "B_ols.hist(bins=int(np.ceil(np.sqrt(B_ols.shape[0]))))"
   ]
  },
  {
   "cell_type": "markdown",
   "metadata": {},
   "source": [
    "# Histogram for Linear IV\n",
    "Fat tails."
   ]
  },
  {
   "cell_type": "code",
   "execution_count": 37,
   "metadata": {},
   "outputs": [
    {
     "data": {
      "text/plain": [
       "<matplotlib.axes._subplots.AxesSubplot at 0x7fe039be95f8>"
      ]
     },
     "execution_count": 37,
     "metadata": {},
     "output_type": "execute_result"
    },
    {
     "data": {
      "image/png": "[encoded data removed]",
      "text/plain": [
       "<Figure size 432x288 with 1 Axes>"
      ]
     },
     "metadata": {
      "needs_background": "light"
     },
     "output_type": "display_data"
    }
   ],
   "source": [
    "B_liniv.hist(bins=int(np.ceil(np.sqrt(B_liniv.shape[0]))))"
   ]
  },
  {
   "cell_type": "markdown",
   "metadata": {},
   "source": [
    "# Histogram for HFUL\n",
    "Beautiful."
   ]
  },
  {
   "cell_type": "code",
   "execution_count": 39,
   "metadata": {},
   "outputs": [
    {
     "data": {
      "text/plain": [
       "<matplotlib.axes._subplots.AxesSubplot at 0x7fe039a5f550>"
      ]
     },
     "execution_count": 39,
     "metadata": {},
     "output_type": "execute_result"
    },
    {
     "data": {
      "image/png": "[encoded data removed]",
      "text/plain": [
       "<Figure size 432x288 with 1 Axes>"
      ]
     },
     "metadata": {
      "needs_background": "light"
     },
     "output_type": "display_data"
    }
   ],
   "source": [
    "B_hful.hist(bins=int(np.ceil(np.sqrt(B_hful.shape[0]))))"
   ]
  },
  {
   "cell_type": "markdown",
   "metadata": {},
   "source": [
    "# Over-identified\n",
    "Let's compare HFUL to linear IV when we have lots of instruments. We'll have 50 instruments."
   ]
  },
  {
   "cell_type": "code",
   "execution_count": 46,
   "metadata": {},
   "outputs": [],
   "source": [
    "N = 1000 # bigger sample sizes take forever\n",
    "beta = 1\n",
    "l = 50 # just identified\n",
    "pi = 0.05 # fairly weak instrument\n",
    "var_u = 1\n",
    "var_v = 1\n",
    "cov_uv = 0.2\n",
    "\"\"\" I apologize for using the lambda function. My code was taking forever, so I used lambda with the\n",
    "    hope that it came with some gain in efficiency. I don't think it did, but it is confusing.\"\"\"\n",
    "B_hful_iv_ols = pd.DataFrame(\n",
    "    [HFUL_LinIV_OLS(N, lambda N: my_dgp(N, beta, l, pi, var_u, var_v, cov_uv)) for i in range(1000)])"
   ]
  },
  {
   "cell_type": "code",
   "execution_count": 47,
   "metadata": {},
   "outputs": [],
   "source": [
    "B_hful = B_hful_iv_ols.iloc[:, 0]\n",
    "B_liniv = B_hful_iv_ols.iloc[:, 1]"
   ]
  },
  {
   "cell_type": "code",
   "execution_count": 48,
   "metadata": {},
   "outputs": [
    {
     "data": {
      "text/plain": [
       "<matplotlib.axes._subplots.AxesSubplot at 0x7fe0398365f8>"
      ]
     },
     "execution_count": 48,
     "metadata": {},
     "output_type": "execute_result"
    },
    {
     "data": {
      "image/png": "[encoded data removed]",
      "text/plain": [
       "<Figure size 432x288 with 1 Axes>"
      ]
     },
     "metadata": {
      "needs_background": "light"
     },
     "output_type": "display_data"
    }
   ],
   "source": [
    "B_liniv.hist(bins=int(np.ceil(np.sqrt(B_liniv.shape[0]))))"
   ]
  },
  {
   "cell_type": "code",
   "execution_count": 49,
   "metadata": {
    "scrolled": true
   },
   "outputs": [
    {
     "data": {
      "text/plain": [
       "<matplotlib.axes._subplots.AxesSubplot at 0x7fe0399644e0>"
      ]
     },
     "execution_count": 49,
     "metadata": {},
     "output_type": "execute_result"
    },
    {
     "data": {
      "image/png": "[encoded data removed]",
      "text/plain": [
       "<Figure size 432x288 with 1 Axes>"
      ]
     },
     "metadata": {
      "needs_background": "light"
     },
     "output_type": "display_data"
    }
   ],
   "source": [
    "B_hful.hist(bins=int(np.ceil(np.sqrt(B_hful.shape[0]))))"
   ]
  },
  {
   "cell_type": "markdown",
   "metadata": {},
   "source": [
    "# Many weak(er) instruments\n",
    "Change $\\pi$ to 0.01."
   ]
  },
  {
   "cell_type": "code",
   "execution_count": 50,
   "metadata": {},
   "outputs": [],
   "source": [
    "N = 1000 # bigger sample sizes take forever\n",
    "beta = 1\n",
    "l = 50 # just identified\n",
    "pi = 0.01 # fairly weak instrument\n",
    "var_u = 1\n",
    "var_v = 1\n",
    "cov_uv = 0.2\n",
    "\"\"\" I apologize for using the lambda function. My code was taking forever, so I used lambda with the\n",
    "    hope that it came with some gain in efficiency. I don't think it did, but it is confusing.\"\"\"\n",
    "B_hful_iv_ols = pd.DataFrame(\n",
    "    [HFUL_LinIV_OLS(N, lambda N: my_dgp(N, beta, l, pi, var_u, var_v, cov_uv)) for i in range(1000)])"
   ]
  },
  {
   "cell_type": "code",
   "execution_count": 51,
   "metadata": {},
   "outputs": [],
   "source": [
    "B_hful = B_hful_iv_ols.iloc[:, 0]\n",
    "B_liniv = B_hful_iv_ols.iloc[:, 1]"
   ]
  },
  {
   "cell_type": "code",
   "execution_count": 52,
   "metadata": {},
   "outputs": [
    {
     "data": {
      "text/plain": [
       "<matplotlib.axes._subplots.AxesSubplot at 0x7fe0397aca58>"
      ]
     },
     "execution_count": 52,
     "metadata": {},
     "output_type": "execute_result"
    },
    {
     "data": {
      "image/png": "[encoded data removed]",
      "text/plain": [
       "<Figure size 432x288 with 1 Axes>"
      ]
     },
     "metadata": {
      "needs_background": "light"
     },
     "output_type": "display_data"
    }
   ],
   "source": [
    "B_liniv.hist(bins=int(np.ceil(np.sqrt(B_liniv.shape[0]))))"
   ]
  },
  {
   "cell_type": "code",
   "execution_count": 53,
   "metadata": {
    "scrolled": true
   },
   "outputs": [
    {
     "data": {
      "text/plain": [
       "<matplotlib.axes._subplots.AxesSubplot at 0x7fe039590898>"
      ]
     },
     "execution_count": 53,
     "metadata": {},
     "output_type": "execute_result"
    },
    {
     "data": {
      "image/png": "[encoded data removed]",
      "text/plain": [
       "<Figure size 432x288 with 1 Axes>"
      ]
     },
     "metadata": {
      "needs_background": "light"
     },
     "output_type": "display_data"
    }
   ],
   "source": [
    "B_hful.hist(bins=int(np.ceil(np.sqrt(B_hful.shape[0]))))"
   ]
  },
  {
   "cell_type": "markdown",
   "metadata": {},
   "source": [
    "# Old code that I should delete."
   ]
  },
  {
   "cell_type": "code",
   "execution_count": null,
   "metadata": {},
   "outputs": [],
   "source": [
    "\"\"\" OLD DGP\n",
    "I know this part has problems. The covariance matrix must be positive definite. I don't want to have to specify every\n",
    "term of the covariance matrix, so I just let it be a random pos def matrix (using make_spd_matrix). But then I changed \n",
    "some of the terms to make sure that my z variables are uncorrelated with the error term u. After doing this, the matrix\n",
    "is only sometimes positive definite. When an error pops up, I just keep retrying until I get lucky and it's still\n",
    "positive definite.\n",
    "\n",
    "# Generate data, use random draws from multivariate normal\n",
    "n = 10000\n",
    "k = 3\n",
    "l = 50\n",
    "dim_cov_matrix = k + l + 1\n",
    "cov_matrix = make_spd_matrix(dim_cov_matrix) # initialize covariance matrix as random\n",
    "for i in range(k, l):\n",
    "    cov_matrix[i, (k+l)] = 0 # make sure exclusion restriction holds\n",
    "    cov_matrix[(k+l), i] = 0\n",
    "data_dist = multivariate_normal(cov=cov_matrix)\n",
    "data = data_dist.rvs(n)\n",
    "X = data[:, range(0, k)]\n",
    "Z = data[:, range(k, l)]\n",
    "u = data[:, k+l]\n",
    "\"\"\""
   ]
  }
 ],
 "metadata": {
  "kernelspec": {
   "display_name": "Python 3",
   "language": "python",
   "name": "python3"
  },
  "language_info": {
   "codemirror_mode": {
    "name": "ipython",
    "version": 3
   },
   "file_extension": ".py",
   "mimetype": "text/x-python",
   "name": "python",
   "nbconvert_exporter": "python",
   "pygments_lexer": "ipython3",
   "version": "3.6.9"
  }
 },
 "nbformat": 4,
 "nbformat_minor": 4
}
