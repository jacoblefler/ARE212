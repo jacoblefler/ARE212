{
 "cells": [
  {
   "cell_type": "markdown",
   "metadata": {},
   "source": [
    "# HFUL Function"
   ]
  },
  {
   "cell_type": "code",
   "execution_count": 1,
   "metadata": {},
   "outputs": [],
   "source": [
    "import numpy as np\n",
    "import pandas as pd\n",
    "from matplotlib import pyplot as plt"
   ]
  },
  {
   "cell_type": "code",
   "execution_count": 29,
   "metadata": {},
   "outputs": [],
   "source": [
    "def HFUL_LinIV_OLS(y,X,Z,ZpZ):\n",
    "    \"\"\"Estimate Beta using HFUL, 2SLS, and OLS\"\"\"\n",
    "    n = y.shape[0]\n",
    "    k = X.shape[1]\n",
    "    # Prep some matrices\n",
    "    Z_pseudoinv = np.linalg.inv(ZpZ) @ Z.T\n",
    "    X_bar = np.column_stack((y, X))\n",
    "    # Calculate alpha hat\n",
    "    P_diag = np.zeros(n) # create vector that has diagonal terms of projection matrix P, initialize with zeros\n",
    "    for i in range(n):\n",
    "        P_diag[i] = np.dot(Z[i, :], Z_pseudoinv[:, i])\n",
    "    PXbarXbar = np.zeros((X_bar.shape[1], X_bar.shape[1]))\n",
    "    for i in range(n):\n",
    "        PXbarXbar = PXbarXbar + P_diag[i] * np.outer(X_bar[i, :], X_bar[i, :])\n",
    "    A = np.linalg.inv(X_bar.T @ X_bar) @ (X_bar.T @ Z @ Z_pseudoinv @ X_bar - PXbarXbar)\n",
    "    w, _ = np.linalg.eig(A)\n",
    "    alpha_tilde = np.amin(w) #get the smallest eigenvalue\n",
    "    alpha_hat = ((n+1) * alpha_tilde - 1)/(n + alpha_tilde - 1)\n",
    "    # Now calculate b HFUL\n",
    "    PXX = np.zeros((X.shape[1], X.shape[1]))\n",
    "    PXy = np.zeros(k)\n",
    "    for i in range(n):\n",
    "        PXX = PXX + P_diag[i] * np.outer(X[i, :], X[i, :])\n",
    "    for i in range(n):\n",
    "        PXy = PXy + P_diag[i] * X[i, :] * y[i]\n",
    "    b_hful_term1 = (X.T @ Z) @ (Z_pseudoinv @ X) - PXX - (alpha_hat * X.T @ X)\n",
    "    b_hful_term2 = (X.T @ Z) @ (Z_pseudoinv @ y) - PXy - (alpha_hat * X.T @ y)\n",
    "    b_hful = np.linalg.inv(b_hful_term1) @ b_hful_term2\n",
    "    # Now calculate linear IV estimate\n",
    "    b_liniv = np.linalg.inv(X.T @ Z @ Z_pseudoinv @ X) @ X.T @ Z @ Z_pseudoinv @ y\n",
    "    # Finally, the good ol OLS estimates\n",
    "    b_ols = np.linalg.inv(X.T @ X) @ X.T @ y\n",
    "    # Put them all together and return.\n",
    "    return np.array([b_hful[1], b_liniv[1], b_ols[1]])"
   ]
  },
  {
   "cell_type": "markdown",
   "metadata": {},
   "source": [
    "# Data Prep"
   ]
  },
  {
   "cell_type": "code",
   "execution_count": 3,
   "metadata": {},
   "outputs": [],
   "source": [
    "df = pd.read_stata('C:/Users/jacob/ARE212_Materials/angrist-krueger91.dta')"
   ]
  },
  {
   "cell_type": "code",
   "execution_count": 4,
   "metadata": {
    "scrolled": false
   },
   "outputs": [
    {
     "data": {
      "text/html": [
       "<div>\n",
       "<style scoped>\n",
       "    .dataframe tbody tr th:only-of-type {\n",
       "        vertical-align: middle;\n",
       "    }\n",
       "\n",
       "    .dataframe tbody tr th {\n",
       "        vertical-align: top;\n",
       "    }\n",
       "\n",
       "    .dataframe thead th {\n",
       "        text-align: right;\n",
       "    }\n",
       "</style>\n",
       "<table border=\"1\" class=\"dataframe\">\n",
       "  <thead>\n",
       "    <tr style=\"text-align: right;\">\n",
       "      <th></th>\n",
       "      <th>ageq</th>\n",
       "      <th>edu</th>\n",
       "      <th>logwage</th>\n",
       "      <th>married</th>\n",
       "      <th>state</th>\n",
       "      <th>qob</th>\n",
       "      <th>black</th>\n",
       "      <th>smsa</th>\n",
       "      <th>yob</th>\n",
       "      <th>region</th>\n",
       "    </tr>\n",
       "  </thead>\n",
       "  <tbody>\n",
       "    <tr>\n",
       "      <th>0</th>\n",
       "      <td>47.00</td>\n",
       "      <td>12</td>\n",
       "      <td>6.245846</td>\n",
       "      <td>1</td>\n",
       "      <td>1</td>\n",
       "      <td>1</td>\n",
       "      <td>1</td>\n",
       "      <td>1</td>\n",
       "      <td>1933</td>\n",
       "      <td>0.0</td>\n",
       "    </tr>\n",
       "    <tr>\n",
       "      <th>1</th>\n",
       "      <td>46.25</td>\n",
       "      <td>12</td>\n",
       "      <td>5.847161</td>\n",
       "      <td>1</td>\n",
       "      <td>48</td>\n",
       "      <td>4</td>\n",
       "      <td>1</td>\n",
       "      <td>1</td>\n",
       "      <td>1933</td>\n",
       "      <td>0.0</td>\n",
       "    </tr>\n",
       "    <tr>\n",
       "      <th>2</th>\n",
       "      <td>50.00</td>\n",
       "      <td>12</td>\n",
       "      <td>6.645516</td>\n",
       "      <td>1</td>\n",
       "      <td>2</td>\n",
       "      <td>1</td>\n",
       "      <td>1</td>\n",
       "      <td>1</td>\n",
       "      <td>1930</td>\n",
       "      <td>0.0</td>\n",
       "    </tr>\n",
       "    <tr>\n",
       "      <th>3</th>\n",
       "      <td>47.00</td>\n",
       "      <td>16</td>\n",
       "      <td>6.706133</td>\n",
       "      <td>1</td>\n",
       "      <td>22</td>\n",
       "      <td>1</td>\n",
       "      <td>1</td>\n",
       "      <td>1</td>\n",
       "      <td>1933</td>\n",
       "      <td>0.0</td>\n",
       "    </tr>\n",
       "    <tr>\n",
       "      <th>4</th>\n",
       "      <td>42.25</td>\n",
       "      <td>14</td>\n",
       "      <td>6.357876</td>\n",
       "      <td>1</td>\n",
       "      <td>42</td>\n",
       "      <td>4</td>\n",
       "      <td>1</td>\n",
       "      <td>1</td>\n",
       "      <td>1937</td>\n",
       "      <td>0.0</td>\n",
       "    </tr>\n",
       "  </tbody>\n",
       "</table>\n",
       "</div>"
      ],
      "text/plain": [
       "    ageq  edu   logwage  married  state  qob  black  smsa   yob  region\n",
       "0  47.00   12  6.245846        1      1    1      1     1  1933     0.0\n",
       "1  46.25   12  5.847161        1     48    4      1     1  1933     0.0\n",
       "2  50.00   12  6.645516        1      2    1      1     1  1930     0.0\n",
       "3  47.00   16  6.706133        1     22    1      1     1  1933     0.0\n",
       "4  42.25   14  6.357876        1     42    4      1     1  1937     0.0"
      ]
     },
     "execution_count": 4,
     "metadata": {},
     "output_type": "execute_result"
    }
   ],
   "source": [
    "df.head()"
   ]
  },
  {
   "cell_type": "markdown",
   "metadata": {},
   "source": [
    "1. Run regressions for (1) and (2) in Table V\n",
    "We regress $logwage$ on $edu$, controlling for year of birth. For (2), we instrument $edu$ with 30 yob*qob dummies."
   ]
  },
  {
   "cell_type": "code",
   "execution_count": 57,
   "metadata": {},
   "outputs": [
    {
     "data": {
      "text/plain": [
       "0         0\n",
       "1         0\n",
       "2         0\n",
       "3         0\n",
       "4         0\n",
       "         ..\n",
       "329504    0\n",
       "329505    0\n",
       "329506    0\n",
       "329507    0\n",
       "329508    0\n",
       "Length: 329509, dtype: uint8"
      ]
     },
     "execution_count": 57,
     "metadata": {},
     "output_type": "execute_result"
    }
   ],
   "source": [
    "yob_dum[1930+yr]*qob_dum[c]"
   ]
  },
  {
   "cell_type": "code",
   "execution_count": 68,
   "metadata": {},
   "outputs": [],
   "source": [
    "# Prepare Z matrix: yob dummies and yob*qob dummies\n",
    "yob_dum = pd.get_dummies(df['yob'])\n",
    "qob_dum = pd.get_dummies(df['qob'])\n",
    "# Make interactions terms\n",
    "qob_yob_interact = yob_dum\n",
    "for yr in range(10):\n",
    "    for c in range(1,5):\n",
    "        qob_yob_interact[f\"y3{yr}q{c}\"] = yob_dum[1930+yr]*qob_dum[c]\n",
    "# combine year dummies with 30 qob*yob dummies\n",
    "qob_yob_interact.drop(qob_yob_interact.iloc[:, 0:10], inplace = True, axis = 1)\n",
    "Z = qob_yob_interact.to_numpy()"
   ]
  },
  {
   "cell_type": "code",
   "execution_count": 65,
   "metadata": {},
   "outputs": [
    {
     "data": {
      "text/html": [
       "<div>\n",
       "<style scoped>\n",
       "    .dataframe tbody tr th:only-of-type {\n",
       "        vertical-align: middle;\n",
       "    }\n",
       "\n",
       "    .dataframe tbody tr th {\n",
       "        vertical-align: top;\n",
       "    }\n",
       "\n",
       "    .dataframe thead th {\n",
       "        text-align: right;\n",
       "    }\n",
       "</style>\n",
       "<table border=\"1\" class=\"dataframe\">\n",
       "  <thead>\n",
       "    <tr style=\"text-align: right;\">\n",
       "      <th></th>\n",
       "      <th>y30q1</th>\n",
       "      <th>y30q2</th>\n",
       "      <th>y30q3</th>\n",
       "      <th>y30q4</th>\n",
       "      <th>y31q1</th>\n",
       "      <th>y31q2</th>\n",
       "      <th>y31q3</th>\n",
       "      <th>y31q4</th>\n",
       "      <th>y32q1</th>\n",
       "      <th>y32q2</th>\n",
       "      <th>...</th>\n",
       "      <th>y37q3</th>\n",
       "      <th>y37q4</th>\n",
       "      <th>y38q1</th>\n",
       "      <th>y38q2</th>\n",
       "      <th>y38q3</th>\n",
       "      <th>y38q4</th>\n",
       "      <th>y39q1</th>\n",
       "      <th>y39q2</th>\n",
       "      <th>y39q3</th>\n",
       "      <th>y39q4</th>\n",
       "    </tr>\n",
       "  </thead>\n",
       "  <tbody>\n",
       "    <tr>\n",
       "      <th>0</th>\n",
       "      <td>0</td>\n",
       "      <td>0</td>\n",
       "      <td>0</td>\n",
       "      <td>0</td>\n",
       "      <td>0</td>\n",
       "      <td>0</td>\n",
       "      <td>0</td>\n",
       "      <td>0</td>\n",
       "      <td>0</td>\n",
       "      <td>0</td>\n",
       "      <td>...</td>\n",
       "      <td>0</td>\n",
       "      <td>0</td>\n",
       "      <td>0</td>\n",
       "      <td>0</td>\n",
       "      <td>0</td>\n",
       "      <td>0</td>\n",
       "      <td>0</td>\n",
       "      <td>0</td>\n",
       "      <td>0</td>\n",
       "      <td>0</td>\n",
       "    </tr>\n",
       "    <tr>\n",
       "      <th>1</th>\n",
       "      <td>0</td>\n",
       "      <td>0</td>\n",
       "      <td>0</td>\n",
       "      <td>0</td>\n",
       "      <td>0</td>\n",
       "      <td>0</td>\n",
       "      <td>0</td>\n",
       "      <td>0</td>\n",
       "      <td>0</td>\n",
       "      <td>0</td>\n",
       "      <td>...</td>\n",
       "      <td>0</td>\n",
       "      <td>0</td>\n",
       "      <td>0</td>\n",
       "      <td>0</td>\n",
       "      <td>0</td>\n",
       "      <td>0</td>\n",
       "      <td>0</td>\n",
       "      <td>0</td>\n",
       "      <td>0</td>\n",
       "      <td>0</td>\n",
       "    </tr>\n",
       "    <tr>\n",
       "      <th>2</th>\n",
       "      <td>1</td>\n",
       "      <td>0</td>\n",
       "      <td>0</td>\n",
       "      <td>0</td>\n",
       "      <td>0</td>\n",
       "      <td>0</td>\n",
       "      <td>0</td>\n",
       "      <td>0</td>\n",
       "      <td>0</td>\n",
       "      <td>0</td>\n",
       "      <td>...</td>\n",
       "      <td>0</td>\n",
       "      <td>0</td>\n",
       "      <td>0</td>\n",
       "      <td>0</td>\n",
       "      <td>0</td>\n",
       "      <td>0</td>\n",
       "      <td>0</td>\n",
       "      <td>0</td>\n",
       "      <td>0</td>\n",
       "      <td>0</td>\n",
       "    </tr>\n",
       "    <tr>\n",
       "      <th>3</th>\n",
       "      <td>0</td>\n",
       "      <td>0</td>\n",
       "      <td>0</td>\n",
       "      <td>0</td>\n",
       "      <td>0</td>\n",
       "      <td>0</td>\n",
       "      <td>0</td>\n",
       "      <td>0</td>\n",
       "      <td>0</td>\n",
       "      <td>0</td>\n",
       "      <td>...</td>\n",
       "      <td>0</td>\n",
       "      <td>0</td>\n",
       "      <td>0</td>\n",
       "      <td>0</td>\n",
       "      <td>0</td>\n",
       "      <td>0</td>\n",
       "      <td>0</td>\n",
       "      <td>0</td>\n",
       "      <td>0</td>\n",
       "      <td>0</td>\n",
       "    </tr>\n",
       "    <tr>\n",
       "      <th>4</th>\n",
       "      <td>0</td>\n",
       "      <td>0</td>\n",
       "      <td>0</td>\n",
       "      <td>0</td>\n",
       "      <td>0</td>\n",
       "      <td>0</td>\n",
       "      <td>0</td>\n",
       "      <td>0</td>\n",
       "      <td>0</td>\n",
       "      <td>0</td>\n",
       "      <td>...</td>\n",
       "      <td>0</td>\n",
       "      <td>1</td>\n",
       "      <td>0</td>\n",
       "      <td>0</td>\n",
       "      <td>0</td>\n",
       "      <td>0</td>\n",
       "      <td>0</td>\n",
       "      <td>0</td>\n",
       "      <td>0</td>\n",
       "      <td>0</td>\n",
       "    </tr>\n",
       "    <tr>\n",
       "      <th>...</th>\n",
       "      <td>...</td>\n",
       "      <td>...</td>\n",
       "      <td>...</td>\n",
       "      <td>...</td>\n",
       "      <td>...</td>\n",
       "      <td>...</td>\n",
       "      <td>...</td>\n",
       "      <td>...</td>\n",
       "      <td>...</td>\n",
       "      <td>...</td>\n",
       "      <td>...</td>\n",
       "      <td>...</td>\n",
       "      <td>...</td>\n",
       "      <td>...</td>\n",
       "      <td>...</td>\n",
       "      <td>...</td>\n",
       "      <td>...</td>\n",
       "      <td>...</td>\n",
       "      <td>...</td>\n",
       "      <td>...</td>\n",
       "      <td>...</td>\n",
       "    </tr>\n",
       "    <tr>\n",
       "      <th>329504</th>\n",
       "      <td>0</td>\n",
       "      <td>0</td>\n",
       "      <td>0</td>\n",
       "      <td>0</td>\n",
       "      <td>0</td>\n",
       "      <td>0</td>\n",
       "      <td>0</td>\n",
       "      <td>0</td>\n",
       "      <td>0</td>\n",
       "      <td>0</td>\n",
       "      <td>...</td>\n",
       "      <td>1</td>\n",
       "      <td>0</td>\n",
       "      <td>0</td>\n",
       "      <td>0</td>\n",
       "      <td>0</td>\n",
       "      <td>0</td>\n",
       "      <td>0</td>\n",
       "      <td>0</td>\n",
       "      <td>0</td>\n",
       "      <td>0</td>\n",
       "    </tr>\n",
       "    <tr>\n",
       "      <th>329505</th>\n",
       "      <td>0</td>\n",
       "      <td>0</td>\n",
       "      <td>0</td>\n",
       "      <td>0</td>\n",
       "      <td>0</td>\n",
       "      <td>0</td>\n",
       "      <td>0</td>\n",
       "      <td>0</td>\n",
       "      <td>0</td>\n",
       "      <td>0</td>\n",
       "      <td>...</td>\n",
       "      <td>0</td>\n",
       "      <td>0</td>\n",
       "      <td>1</td>\n",
       "      <td>0</td>\n",
       "      <td>0</td>\n",
       "      <td>0</td>\n",
       "      <td>0</td>\n",
       "      <td>0</td>\n",
       "      <td>0</td>\n",
       "      <td>0</td>\n",
       "    </tr>\n",
       "    <tr>\n",
       "      <th>329506</th>\n",
       "      <td>0</td>\n",
       "      <td>0</td>\n",
       "      <td>0</td>\n",
       "      <td>0</td>\n",
       "      <td>0</td>\n",
       "      <td>0</td>\n",
       "      <td>0</td>\n",
       "      <td>0</td>\n",
       "      <td>0</td>\n",
       "      <td>0</td>\n",
       "      <td>...</td>\n",
       "      <td>0</td>\n",
       "      <td>0</td>\n",
       "      <td>0</td>\n",
       "      <td>0</td>\n",
       "      <td>0</td>\n",
       "      <td>0</td>\n",
       "      <td>1</td>\n",
       "      <td>0</td>\n",
       "      <td>0</td>\n",
       "      <td>0</td>\n",
       "    </tr>\n",
       "    <tr>\n",
       "      <th>329507</th>\n",
       "      <td>0</td>\n",
       "      <td>0</td>\n",
       "      <td>0</td>\n",
       "      <td>0</td>\n",
       "      <td>0</td>\n",
       "      <td>0</td>\n",
       "      <td>0</td>\n",
       "      <td>0</td>\n",
       "      <td>0</td>\n",
       "      <td>0</td>\n",
       "      <td>...</td>\n",
       "      <td>0</td>\n",
       "      <td>0</td>\n",
       "      <td>0</td>\n",
       "      <td>0</td>\n",
       "      <td>0</td>\n",
       "      <td>0</td>\n",
       "      <td>0</td>\n",
       "      <td>0</td>\n",
       "      <td>0</td>\n",
       "      <td>0</td>\n",
       "    </tr>\n",
       "    <tr>\n",
       "      <th>329508</th>\n",
       "      <td>0</td>\n",
       "      <td>0</td>\n",
       "      <td>0</td>\n",
       "      <td>0</td>\n",
       "      <td>0</td>\n",
       "      <td>0</td>\n",
       "      <td>1</td>\n",
       "      <td>0</td>\n",
       "      <td>0</td>\n",
       "      <td>0</td>\n",
       "      <td>...</td>\n",
       "      <td>0</td>\n",
       "      <td>0</td>\n",
       "      <td>0</td>\n",
       "      <td>0</td>\n",
       "      <td>0</td>\n",
       "      <td>0</td>\n",
       "      <td>0</td>\n",
       "      <td>0</td>\n",
       "      <td>0</td>\n",
       "      <td>0</td>\n",
       "    </tr>\n",
       "  </tbody>\n",
       "</table>\n",
       "<p>329509 rows × 40 columns</p>\n",
       "</div>"
      ],
      "text/plain": [
       "        y30q1  y30q2  y30q3  y30q4  y31q1  y31q2  y31q3  y31q4  y32q1  y32q2  \\\n",
       "0           0      0      0      0      0      0      0      0      0      0   \n",
       "1           0      0      0      0      0      0      0      0      0      0   \n",
       "2           1      0      0      0      0      0      0      0      0      0   \n",
       "3           0      0      0      0      0      0      0      0      0      0   \n",
       "4           0      0      0      0      0      0      0      0      0      0   \n",
       "...       ...    ...    ...    ...    ...    ...    ...    ...    ...    ...   \n",
       "329504      0      0      0      0      0      0      0      0      0      0   \n",
       "329505      0      0      0      0      0      0      0      0      0      0   \n",
       "329506      0      0      0      0      0      0      0      0      0      0   \n",
       "329507      0      0      0      0      0      0      0      0      0      0   \n",
       "329508      0      0      0      0      0      0      1      0      0      0   \n",
       "\n",
       "        ...  y37q3  y37q4  y38q1  y38q2  y38q3  y38q4  y39q1  y39q2  y39q3  \\\n",
       "0       ...      0      0      0      0      0      0      0      0      0   \n",
       "1       ...      0      0      0      0      0      0      0      0      0   \n",
       "2       ...      0      0      0      0      0      0      0      0      0   \n",
       "3       ...      0      0      0      0      0      0      0      0      0   \n",
       "4       ...      0      1      0      0      0      0      0      0      0   \n",
       "...     ...    ...    ...    ...    ...    ...    ...    ...    ...    ...   \n",
       "329504  ...      1      0      0      0      0      0      0      0      0   \n",
       "329505  ...      0      0      1      0      0      0      0      0      0   \n",
       "329506  ...      0      0      0      0      0      0      1      0      0   \n",
       "329507  ...      0      0      0      0      0      0      0      0      0   \n",
       "329508  ...      0      0      0      0      0      0      0      0      0   \n",
       "\n",
       "        y39q4  \n",
       "0           0  \n",
       "1           0  \n",
       "2           0  \n",
       "3           0  \n",
       "4           0  \n",
       "...       ...  \n",
       "329504      0  \n",
       "329505      0  \n",
       "329506      0  \n",
       "329507      0  \n",
       "329508      0  \n",
       "\n",
       "[329509 rows x 40 columns]"
      ]
     },
     "execution_count": 65,
     "metadata": {},
     "output_type": "execute_result"
    }
   ],
   "source": [
    "qob_yob_interact.drop(qob_yob_interact.iloc[:, 0:10], inplace = True, axis = 1)\n",
    "qob_yob_interact"
   ]
  },
  {
   "cell_type": "code",
   "execution_count": 6,
   "metadata": {},
   "outputs": [],
   "source": [
    "def ZpZij(i,j,Z):\n",
    "    N = Z.shape[0]\n",
    "    zpi = Z[:,i]\n",
    "    zj = Z[:,j]\n",
    "    ZpZij = 0\n",
    "    for row in range(N):\n",
    "        ZpZij = ZpZij + zpi[row]*zj[row]\n",
    "    return ZpZij"
   ]
  },
  {
   "cell_type": "code",
   "execution_count": 20,
   "metadata": {
    "scrolled": true
   },
   "outputs": [],
   "source": [
    "def ZpZ(Z):\n",
    "    N = Z.shape[0]\n",
    "    l = Z.shape[1]\n",
    "    ZpZ = np.zeros((l,l))\n",
    "    for i in range(l):\n",
    "        for j in range(l):\n",
    "            ZpZ[i,j] = ZpZij(i,j,Z)\n",
    "    return ZpZ"
   ]
  },
  {
   "cell_type": "code",
   "execution_count": 33,
   "metadata": {},
   "outputs": [],
   "source": [
    "#qob_yob_interact.sum(axis=0)"
   ]
  },
  {
   "cell_type": "code",
   "execution_count": 22,
   "metadata": {},
   "outputs": [
    {
     "name": "stdout",
     "output_type": "stream",
     "text": [
      "Wall time: 6min 14s\n"
     ]
    }
   ],
   "source": [
    "%%time\n",
    "ZpZ = ZpZ(Z)"
   ]
  },
  {
   "cell_type": "code",
   "execution_count": 41,
   "metadata": {},
   "outputs": [
    {
     "data": {
      "text/plain": [
       "(40, 40)"
      ]
     },
     "execution_count": 41,
     "metadata": {},
     "output_type": "execute_result"
    }
   ],
   "source": [
    "ZpZ.shape"
   ]
  },
  {
   "cell_type": "code",
   "execution_count": 50,
   "metadata": {},
   "outputs": [
    {
     "ename": "IndexError",
     "evalue": "too many indices for array",
     "output_type": "error",
     "traceback": [
      "\u001b[1;31m---------------------------------------------------------------------------\u001b[0m",
      "\u001b[1;31mIndexError\u001b[0m                                Traceback (most recent call last)",
      "\u001b[1;32m<ipython-input-50-a204e6764009>\u001b[0m in \u001b[0;36m<module>\u001b[1;34m\u001b[0m\n\u001b[0;32m      1\u001b[0m \u001b[0mZpZ_00\u001b[0m \u001b[1;33m=\u001b[0m \u001b[1;36m0\u001b[0m\u001b[1;33m\u001b[0m\u001b[1;33m\u001b[0m\u001b[0m\n\u001b[0;32m      2\u001b[0m \u001b[1;32mfor\u001b[0m \u001b[0mi\u001b[0m \u001b[1;32min\u001b[0m \u001b[0mrange\u001b[0m\u001b[1;33m(\u001b[0m\u001b[0mN\u001b[0m\u001b[1;33m)\u001b[0m\u001b[1;33m:\u001b[0m\u001b[1;33m\u001b[0m\u001b[1;33m\u001b[0m\u001b[0m\n\u001b[1;32m----> 3\u001b[1;33m     \u001b[0mZpZ_00\u001b[0m \u001b[1;33m=\u001b[0m \u001b[0mZpZ_00\u001b[0m \u001b[1;33m+\u001b[0m \u001b[0mZ\u001b[0m\u001b[1;33m[\u001b[0m\u001b[0mi\u001b[0m\u001b[1;33m,\u001b[0m\u001b[1;36m0\u001b[0m\u001b[1;33m]\u001b[0m\u001b[1;33m*\u001b[0m\u001b[0mZ\u001b[0m\u001b[1;33m[\u001b[0m\u001b[0mi\u001b[0m\u001b[1;33m,\u001b[0m\u001b[1;36m0\u001b[0m\u001b[1;33m]\u001b[0m\u001b[1;33m\u001b[0m\u001b[1;33m\u001b[0m\u001b[0m\n\u001b[0m\u001b[0;32m      4\u001b[0m \u001b[0mZpZ_00\u001b[0m\u001b[1;33m\u001b[0m\u001b[1;33m\u001b[0m\u001b[0m\n",
      "\u001b[1;31mIndexError\u001b[0m: too many indices for array"
     ]
    }
   ],
   "source": [
    "ZpZ_00 = 0\n",
    "for i in range(N):\n",
    "    ZpZ_00 = ZpZ_00 + Z[i,0]*Z[i,0]\n",
    "ZpZ_00"
   ]
  },
  {
   "cell_type": "code",
   "execution_count": 42,
   "metadata": {},
   "outputs": [
    {
     "data": {
      "text/plain": [
       "33602"
      ]
     },
     "execution_count": 42,
     "metadata": {},
     "output_type": "execute_result"
    }
   ],
   "source": [
    "sum(Z[:,0])"
   ]
  },
  {
   "cell_type": "code",
   "execution_count": 44,
   "metadata": {},
   "outputs": [
    {
     "data": {
      "text/plain": [
       "array([[ 66,   0,   0, ...,   0,   0,   0],\n",
       "       [  0, 119,   0, ...,   0,   0,   0],\n",
       "       [  0,   0, 211, ...,   0,   0,   0],\n",
       "       ...,\n",
       "       [  0,   0,   0, ..., 252,   0,   0],\n",
       "       [  0,   0,   0, ...,   0, 135,   0],\n",
       "       [  0,   0,   0, ...,   0,   0, 211]], dtype=uint8)"
      ]
     },
     "execution_count": 44,
     "metadata": {},
     "output_type": "execute_result"
    }
   ],
   "source": [
    "Z.T @ Z"
   ]
  },
  {
   "cell_type": "code",
   "execution_count": 43,
   "metadata": {},
   "outputs": [
    {
     "data": {
      "text/plain": [
       "66"
      ]
     },
     "execution_count": 43,
     "metadata": {},
     "output_type": "execute_result"
    }
   ],
   "source": [
    "np.dot(Z[:,0],Z[:,0])"
   ]
  },
  {
   "cell_type": "code",
   "execution_count": 27,
   "metadata": {},
   "outputs": [],
   "source": [
    "# y vector: log wages\n",
    "y = df['logwage'].to_numpy()\n",
    "# Prepare X matrix: education and yob dummies\n",
    "X = np.column_stack((df['edu'].to_numpy(), yob_dum.to_numpy()))"
   ]
  },
  {
   "cell_type": "code",
   "execution_count": 30,
   "metadata": {},
   "outputs": [
    {
     "data": {
      "text/plain": [
       "array([ 4.93106953e+00, -7.21369732e+03,  8.45727079e+02])"
      ]
     },
     "execution_count": 30,
     "metadata": {},
     "output_type": "execute_result"
    }
   ],
   "source": [
    "%%time\n",
    "results = HFUL_LinIV_OLS(y,X,Z,ZpZ)\n",
    "results"
   ]
  },
  {
   "cell_type": "code",
   "execution_count": null,
   "metadata": {},
   "outputs": [],
   "source": []
  },
  {
   "cell_type": "code",
   "execution_count": null,
   "metadata": {},
   "outputs": [],
   "source": []
  },
  {
   "cell_type": "code",
   "execution_count": null,
   "metadata": {},
   "outputs": [],
   "source": []
  }
 ],
 "metadata": {
  "kernelspec": {
   "display_name": "Python 3",
   "language": "python",
   "name": "python3"
  },
  "language_info": {
   "codemirror_mode": {
    "name": "ipython",
    "version": 3
   },
   "file_extension": ".py",
   "mimetype": "text/x-python",
   "name": "python",
   "nbconvert_exporter": "python",
   "pygments_lexer": "ipython3",
   "version": "3.7.6"
  }
 },
 "nbformat": 4,
 "nbformat_minor": 4
}
